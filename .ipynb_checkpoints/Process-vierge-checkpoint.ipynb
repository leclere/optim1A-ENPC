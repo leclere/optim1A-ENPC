{
 "cells": [
  {
   "cell_type": "markdown",
   "metadata": {},
   "source": [
    "# Projet répartition de charge sur un multiprocesseur\n",
    "\n",
    "## Présentation du problème\n",
    "\n",
    "On suppose qu'un processeur doit traiter $n$ tâches, potentiellement en parallèle. Chaque tâche $i\\in[n]$\n",
    "nécessitant une charge de travail totale $w_i \\geq 0$, qui doit être effectuée entre l'instant\n",
    "$d_i$ et l'instant $f_i$. On note $x_t \\geq 0$ la quantité de travail effectuée à la période\n",
    "$t \\in [T]$.\n",
    "On noteras $y_t^i \\geq 0$ la quantité de travail concernant\n",
    "la tâche $i$ traitée à l'instant $t$.\n",
    "On note $\\varphi(x_t)$ la quantité d'énergie nécessaire au processeur à l'instant\n",
    "$t$ pour traiter une charge totale $x_t = \\sum_{i=1}^N y_t^i$.  \n",
    "Finalement, à chaque instant $t\\in[T]$ on souhaite\n",
    "que le processeur ait une charge de travail $x_t \\in [\\underline{x},\\bar{x}]$.\n",
    "Dans tout le projet on supposera qu'il existe un planning de charge réalisable $(x_t)_{t\\in[T]}$.\n"
   ]
  },
  {
   "cell_type": "markdown",
   "metadata": {},
   "source": [
    "## Installation et appels des solveurs\n",
    "\n",
    "Les deux cellules suivantes prennent du"
   ]
  },
  {
   "cell_type": "code",
   "execution_count": null,
   "metadata": {
    "collapsed": false
   },
   "outputs": [],
   "source": [
    "Pkg.update()     # Mets à jour les packets\n",
    "Pkg.add(\"JuMP\")  # Installe JuMP\n",
    "Pkg.add(\"Clp\")   # Installe le solveur linéaire Clp -- prends du temps\n",
    "Pkg.add(\"Ipopt\") # Installe le solveur non-linéaire Ipopt -- prends du temps"
   ]
  },
  {
   "cell_type": "code",
   "execution_count": null,
   "metadata": {
    "collapsed": false
   },
   "outputs": [],
   "source": [
    "using JuMP, Clp, Ipopt               # appelle les packages   \n",
    "SOLVER = IpoptSolver(print_level=0)  # definit le solveur non-linéaire\n",
    "SOLVER_LP = ClpSolver()              # définit le solveur linéaire   "
   ]
  },
  {
   "cell_type": "markdown",
   "metadata": {},
   "source": [
    "## Données du problème"
   ]
  },
  {
   "cell_type": "code",
   "execution_count": null,
   "metadata": {
    "collapsed": false
   },
   "outputs": [],
   "source": [
    "α,β,γ = 1,1,1                           # Coefficients de la fonction cout\n",
    "d = [1 1 4 7 7 8 6 7 8 9]               # date de début des tâches\n",
    "f = [2 3 5 9 10 8 9 10 12 12]           # date de fin des tâches\n",
    "x_lb, x_ub = 1, 10                      # charge minimale et maximale au pas de temps t\n",
    "w = [11 10 2 7 10 2 2 2 7.5 7.5]        # charge totale par tâche\n",
    "\n",
    "T =  maximum(f)                         # horizon\n",
    "N = length(w)                           # nombre de tâches\n",
    "\n",
    "function cost(xt)                       # cout à l'instant t pour une charge totale à l'instant t de xt\n",
    "    return α*xt^2+β*xt+γ\n",
    "end"
   ]
  }
 ],
 "metadata": {
  "kernelspec": {
   "display_name": "Julia 0.6.0",
   "language": "julia",
   "name": "julia-0.6"
  },
  "language_info": {
   "file_extension": ".jl",
   "mimetype": "application/julia",
   "name": "julia",
   "version": "0.6.0"
  }
 },
 "nbformat": 4,
 "nbformat_minor": 2
}
